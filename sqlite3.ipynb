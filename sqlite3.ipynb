{
 "cells": [
  {
   "cell_type": "code",
   "execution_count": null,
   "metadata": {},
   "outputs": [],
   "source": [
    "# импорт бибилиотеки\n",
    "import sqlite3 as sql"
   ]
  },
  {
   "cell_type": "markdown",
   "metadata": {},
   "source": [
    "Здесь мы импортируем библиотеку для дальнейшей работе с ней"
   ]
  },
  {
   "cell_type": "code",
   "execution_count": null,
   "metadata": {},
   "outputs": [],
   "source": [
    "def create_database(name_db:str) -> None:\n",
    "    db = sql.connect(name_db)\n",
    "    # создаем курсор\n",
    "    cursor = db.cursor()\n",
    "\n",
    "    # создание таблицы\n",
    "    cursor.execute(\"\"\"CREATE TABLE IF NOT EXISTS name_table(\n",
    "    id INTEGER,\n",
    "    name TEXT,\n",
    "    age INTEGER,\n",
    "    login TEXT,\n",
    "    password TEXT\n",
    "    )\n",
    "    \"\"\")\n",
    "\n",
    "    # сохранить\n",
    "    db.commit()"
   ]
  },
  {
   "cell_type": "markdown",
   "metadata": {},
   "source": [
    "Функция по созданию новой базы данных, если таковой нет. В качестве параметров для метода `execute` передаеться SQL запрос в текстовом виде."
   ]
  },
  {
   "cell_type": "code",
   "execution_count": null,
   "metadata": {},
   "outputs": [],
   "source": [
    "# вернет кортеж с данными из базы данных\n",
    "def get_data_from_database(name_db:str, data) -> tuple:\n",
    "    \n",
    "    db = sql.connect(name_db)\n",
    "    cursor = db.cursor()\n",
    "    \n",
    "    cursor.execute(\n",
    "        f\"\"\"SELECT * FROM {name_db} WHERE id={data}\"\"\"\n",
    "    )\n",
    "    \n",
    "    # вернуть одно вхождение\n",
    "    return cursor.fetchone()"
   ]
  },
  {
   "cell_type": "markdown",
   "metadata": {},
   "source": [
    "Функция для изъятия данных из таблицы по какому-то ключу. Вернет кортеж данных. Для выполнения запроса используется все тот же SQL."
   ]
  },
  {
   "cell_type": "code",
   "execution_count": null,
   "metadata": {},
   "outputs": [],
   "source": [
    "# Важно помнить о типе данных, которые устанавливали при создании БД\n",
    "def add_data_in_database(name_db:str, data, add_data) -> None:\n",
    "    \n",
    "    db = sql.connect(name_db)\n",
    "    cursor = db.cursor()\n",
    "    \n",
    "    cursor.execute(\n",
    "        f\"\"\"INSERT INTO {name_db} VALUES (id={data}, name='{add_data}')\"\"\"\n",
    "    )\n",
    "    \n",
    "    # сохраняем\n",
    "    db.commit()"
   ]
  }
 ],
 "metadata": {
  "language_info": {
   "name": "python"
  }
 },
 "nbformat": 4,
 "nbformat_minor": 2
}
