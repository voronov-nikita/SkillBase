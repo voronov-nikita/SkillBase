{
 "cells": [
  {
   "cell_type": "markdown",
   "metadata": {},
   "source": [
    "Реализация класса, содержащий в себе диалоговые окна.\n",
    "Эти диалоговые окна должны проявляться только в тех случаях, когда требуется сообщить о возникшем исключении. "
   ]
  },
  {
   "cell_type": "code",
   "execution_count": null,
   "metadata": {},
   "outputs": [],
   "source": [
    "from PyQt5.QtWidgets import QMessageBox\n",
    "\n",
    "\n",
    "class ErrorWidgets(QMessageBox):\n",
    "    def __init__(self) -> None:\n",
    "        '''\n",
    "        Description for initialiation this class.\n",
    "        '''\n",
    "        super().__init__()\n",
    "        \n",
    "    def FirstError(self) -> None:\n",
    "        '''\n",
    "        Description for method.\n",
    "        '''\n",
    "        self.setText(\"Текст для ошибки\")\n",
    "        self.setWindowTitle(\"Имя окна ошибки\")\n",
    "        self.setIcon(QMessageBox.Information)\n",
    "        return self"
   ]
  },
  {
   "cell_type": "markdown",
   "metadata": {},
   "source": [
    "В данном случае, использование отдельного класса для отслеживания ошибок млжет стать более уелесообразным. \n",
    "\n",
    "Используя один и тот же экземпляр класса можно сэкономить места в памяти и сделать структуру кода более схожей с той, что легко читается."
   ]
  }
 ],
 "metadata": {
  "kernelspec": {
   "display_name": "Python 3",
   "language": "python",
   "name": "python3"
  },
  "language_info": {
   "name": "python",
   "version": "3.11.5"
  }
 },
 "nbformat": 4,
 "nbformat_minor": 2
}
