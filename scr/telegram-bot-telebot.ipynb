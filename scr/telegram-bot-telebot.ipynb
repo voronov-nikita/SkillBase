{
 "cells": [
  {
   "cell_type": "markdown",
   "metadata": {},
   "source": [
    "Определение и импорт необходимых зависимостей."
   ]
  },
  {
   "cell_type": "code",
   "execution_count": null,
   "metadata": {},
   "outputs": [],
   "source": [
    "# pip install telebot\n",
    "import telebot\n",
    "\n",
    "TOKEN = \"\"\n",
    "bot = telebot.TeleBot(TOKEN, parse_mode=\"MarkDown\")"
   ]
  },
  {
   "cell_type": "markdown",
   "metadata": {},
   "source": [
    "# открпавка сообщения текстового сообщения через команды\n",
    "# к примеру команда /start"
   ]
  },
  {
   "cell_type": "code",
   "execution_count": null,
   "metadata": {},
   "outputs": [],
   "source": [
    "@bot.message_handler(commands=[\"start\"], content_types=[\"text\"])\n",
    "def start_message(message):\n",
    "\n",
    "    bot.send_message(message.chat.id, \"Привет\")"
   ]
  }
 ],
 "metadata": {
  "language_info": {
   "name": "python"
  }
 },
 "nbformat": 4,
 "nbformat_minor": 2
}
